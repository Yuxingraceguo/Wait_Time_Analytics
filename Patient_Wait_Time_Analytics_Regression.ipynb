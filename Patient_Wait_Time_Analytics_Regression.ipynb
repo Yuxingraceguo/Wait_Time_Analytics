{
  "nbformat": 4,
  "nbformat_minor": 0,
  "metadata": {
    "kernelspec": {
      "display_name": "Python 3",
      "language": "python",
      "name": "python3"
    },
    "language_info": {
      "codemirror_mode": {
        "name": "ipython",
        "version": 3
      },
      "file_extension": ".py",
      "mimetype": "text/x-python",
      "name": "python",
      "nbconvert_exporter": "python",
      "pygments_lexer": "ipython3",
      "version": "3.8.5"
    },
    "colab": {
      "name": "Regression_hand_off.ipynb",
      "provenance": []
    }
  },
  "cells": [
    {
      "cell_type": "code",
      "metadata": {
        "id": "Rlwy_WGWW8hB"
      },
      "source": [
        "# Import packages\n",
        "import pandas as pd\n",
        "import datetime as dt\n",
        "import statistics as stat\n",
        "pd.set_option('display.max_rows', 800)\n",
        "import seaborn as sns\n",
        "import matplotlib.pyplot as plt\n",
        "import numpy as np\n",
        "import matplotlib.pyplot as plt  \n",
        "import seaborn as seabornInstance \n",
        "from sklearn.model_selection import train_test_split \n",
        "from sklearn.linear_model import LinearRegression\n",
        "from sklearn import metrics\n",
        "%matplotlib inline\n",
        "import statsmodels.api as sm\n",
        "import statsmodels.formula.api as smf"
      ],
      "execution_count": null,
      "outputs": []
    },
    {
      "cell_type": "markdown",
      "metadata": {
        "id": "5RSLY237W8hE"
      },
      "source": [
        "## Scheduled Stats"
      ]
    },
    {
      "cell_type": "code",
      "metadata": {
        "id": "7JKRm52GW8hF"
      },
      "source": [
        "# Import Scheduled Stats for Neurology providers\n",
        "specialty = \"Neurology\"\n",
        "stats=pd.read_csv(f\"{specialty}/Neuro_data (1).csv\")\n",
        "# Select schedulable hours and linking fields\n",
        "st=stats[['SCHEDULABLE_HRS','PROV_NAME','STATISTICS_DATE(FY)']]\n",
        "# Rename selected columns\n",
        "st=st.rename({'PROV_NAME': \"Provider Name\", 'STATISTICS_DATE(FY)': 'Appointment Date'}, axis=1)\n",
        "# Convert Object to date format\n",
        "st['Appointment Date']=pd.to_datetime(st['Appointment Date']).dt.date\n",
        "# Group dataframe by provider name and appointment date\n",
        "st=st.groupby(['Provider Name','Appointment Date'],as_index=False).count()\n",
        "st.head()"
      ],
      "execution_count": null,
      "outputs": []
    },
    {
      "cell_type": "markdown",
      "metadata": {
        "id": "WYGZ4JMXW8hG"
      },
      "source": [
        "## Encounter"
      ]
    },
    {
      "cell_type": "code",
      "metadata": {
        "id": "3rM_rLYEW8hG"
      },
      "source": [
        "# Import Encounter Data\n",
        "encounter = pd.read_excel(f\"{specialty}/neurology_2019 (1).xlsx\").rename(columns={\n",
        "    'Clinic___': \"Clinic\",\n",
        "    'Appointment Cancel Date (DAY)':'Appointment Cancel Date',\n",
        "    'Appointment Date (DAY)': 'Appointment Date',\n",
        "    'Appointment Made Date (DAY)': 'Appointment Made Date',\n",
        "    'Provider Name_': 'Provider Name',\n",
        "    '*Expected: (AGG)': \"*Expected:\",\n",
        "    '<=24 Hours: (Cancelled) (SUM)': \"<=24 Hours: (Cancelled)\",\n",
        "    'Cancelled: (SUM)': \"Cancelled:\",\n",
        "    'No Show: (SUM)': \"No Show:\",\n",
        "    'Rescheduled: (SUM)': \"Rescheduled:\",\n",
        "    'Total Attended (SUM)': \"Total Attended\"\n",
        "}).drop('Encounter CSN ID', axis=1)\n",
        "# Import Provider List\n",
        "providers =pd.read_csv(f\"{'Neurology'}/providers.csv\")\n",
        "# Merge two datasets\n",
        "df2=encounter.merge(providers, how=\"inner\", on=\"Provider Name\")\n",
        "# Combine Epilepsy with General\n",
        "df2['SubSpecialty']=df2['SubSpecialty'].replace(['Neurology: Epilepsy'],'Neurology: General')\n",
        "# Remove NP/PA\n",
        "df2=df2[df2['SubSpecialty']!='Neurology - NP / PA']\n",
        "step_1=df2[[\"Rescheduled:\",\"*Expected:\",\"Total Attended\",'SubSpecialty','Appointment Date','Appointment Made Date',\"No Show:\",'Appointment Cancel Date',\"Cancelled:\",\"<=24 Hours: (Cancelled)\",'Visit Type','Provider Name']]"
      ],
      "execution_count": null,
      "outputs": []
    },
    {
      "cell_type": "code",
      "metadata": {
        "id": "d_9PTt_vW8hG"
      },
      "source": [
        "# Define New Patients as Visit Type of NEW and MYC VIDEO VISIT NEW\n",
        "for row in step_1.iterrows():\n",
        "    if row[1]['Visit Type'] in ['NEW', 'MYC VIDEO VISIT NEW']:\n",
        "        step_1.at[row[0], 'NEW'] = True\n",
        "    else:\n",
        "        step_1.at[row[0], 'NEW'] = False\n",
        "step_1['NEW'] = step_1['NEW'].astype(int)\n",
        "step_1=step_1[step_1['NEW']==1]"
      ],
      "execution_count": null,
      "outputs": []
    },
    {
      "cell_type": "code",
      "metadata": {
        "id": "-41msy5pW8hH"
      },
      "source": [
        "# Convert Object to date formats\n",
        "step_1['Appointment Date']=pd.to_datetime(step_1['Appointment Date'])\n",
        "step_1['Appointment Made Date']=pd.to_datetime(step_1['Appointment Made Date'])\n",
        "step_1['Appointment Made Date']=step_1['Appointment Made Date'].dt.date\n",
        "step_1['Appointment Date']=step_1['Appointment Date'].dt.date\n",
        "step_1['Appointment Cancel Date']=pd.to_datetime(step_1['Appointment Cancel Date']).dt.date\n",
        "step_1['year_month_contact']=pd.to_datetime(step_1['Appointment Date']).dt.strftime('%Y-%m')\n",
        "step_1['week_contact']=pd.to_datetime(step_1['Appointment Date']).dt.strftime('%Y-%U')\n",
        "step_1['year_month_appmade']=pd.to_datetime(step_1['Appointment Made Date']).dt.strftime('%Y-%m')\n",
        "step_1['week_appmade']=pd.to_datetime(step_1['Appointment Made Date']).dt.strftime('%Y-%U')\n",
        "step_1['Canceled before contact date']=(step_1['Appointment Cancel Date'] < step_1['Appointment Date'])*1"
      ],
      "execution_count": null,
      "outputs": []
    },
    {
      "cell_type": "code",
      "metadata": {
        "id": "DY2lj2jMW8hH"
      },
      "source": [
        "# Merge encounter with scheduled stats\n",
        "step_1=pd.merge(step_1,st,how=\"inner\", on=['Provider Name','Appointment Date'])"
      ],
      "execution_count": null,
      "outputs": []
    },
    {
      "cell_type": "code",
      "metadata": {
        "id": "kLdzG0BwW8hI"
      },
      "source": [
        "# Segregate each subspecialty of Neurology as a dataframe\n",
        "ncbc=step_1[step_1['Canceled before contact date']==0]\n",
        "ss1=ncbc[ncbc['SubSpecialty']=='Neurology: General']\n",
        "ss2=ncbc[ncbc['SubSpecialty']=='Neurology: Movement Disorders']\n",
        "ss3=ncbc[ncbc['SubSpecialty']=='Neurology: Pediatric ']\n",
        "ss4=ncbc[ncbc['SubSpecialty']=='Neurology: Cerebrovascular Disease & Stroke']\n",
        "ss5=ncbc[ncbc['SubSpecialty']=='Neuropsychology']\n",
        "ss6=ncbc[ncbc['SubSpecialty']=='Neurology: Alzheimers / Dementia']"
      ],
      "execution_count": null,
      "outputs": []
    },
    {
      "cell_type": "markdown",
      "metadata": {
        "id": "RJI38DJZW8hI"
      },
      "source": [
        "## Queue Length"
      ]
    },
    {
      "cell_type": "code",
      "metadata": {
        "id": "riMtVVyoW8hI"
      },
      "source": [
        "# Calculate Queue Length\n",
        "list_df=[ss1,ss2,ss3,ss4,ss5,ss6]\n",
        "for i in list_df:\n",
        "    date_list_contact=i['Appointment Date']\n",
        "    queue_length=[]\n",
        "    for x in date_list_contact:\n",
        "        num=i[\"*Expected:\"][(i['Appointment Date']>x)&(i['Appointment Made Date']<=x)].count()\n",
        "        queue_length.append(num)\n",
        "    i['queue_length']=queue_length"
      ],
      "execution_count": null,
      "outputs": []
    },
    {
      "cell_type": "markdown",
      "metadata": {
        "id": "GCCU1NhVW8hJ"
      },
      "source": [
        "## Wait Times"
      ]
    },
    {
      "cell_type": "code",
      "metadata": {
        "id": "lef2JJ9eW8hJ"
      },
      "source": [
        "# Calculate Wait Times\n",
        "ncbc=pd.concat(list_df,axis=0)\n",
        "ncbc['wait day']=ncbc['Appointment Date']-ncbc['Appointment Made Date']\n",
        "ncbc['wait day']=ncbc['wait day'].dt.days.astype(int)\n",
        "# Limit Time Period\n",
        "ncbc_period=ncbc[(ncbc['Appointment Date']>=dt.date(2019, 1, 1))&(ncbc['Appointment Date']<=dt.date(2019, 12, 31))]\n",
        "# Calculate average Wait Times per week\n",
        "wq_week=ncbc_period.groupby(['SubSpecialty','week_appmade'],as_index=False).agg(\n",
        "    {'wait day': 'mean','queue_length':'mean'})\n",
        "wq_week.rename(columns = {'week_appmade':'Week'}, inplace = True) "
      ],
      "execution_count": null,
      "outputs": []
    },
    {
      "cell_type": "markdown",
      "metadata": {
        "id": "y7xQDkhDW8hJ"
      },
      "source": [
        "## Demand"
      ]
    },
    {
      "cell_type": "code",
      "metadata": {
        "id": "TnUBvm-1W8hK"
      },
      "source": [
        "# Limit Period to 2019 \n",
        "contact=step_1[(step_1['Appointment Date']>=dt.date(2019, 1, 1))&(step_1['Appointment Date']<=dt.date(2019, 12, 31))]\n",
        "# Demand is calculated based on appointment made date\n",
        "demand_week=contact.groupby(['SubSpecialty','week_appmade'],as_index=False).agg(\n",
        "    {'Canceled before contact date':'sum',\"*Expected:\":'count'})\n",
        "# Demand= # of expected visits - # of early cancelation\n",
        "demand_week['demand']=demand_week[\"*Expected:\"]-demand_week['Canceled before contact date']\n",
        "demand_week=demand_week[['week_appmade','demand','SubSpecialty']]"
      ],
      "execution_count": null,
      "outputs": []
    },
    {
      "cell_type": "markdown",
      "metadata": {
        "id": "VvHvpmIyW8hK"
      },
      "source": [
        "## Supply"
      ]
    },
    {
      "cell_type": "code",
      "metadata": {
        "id": "invVGmvDW8hK"
      },
      "source": [
        "# Supply is calculated based on appointment/contact date\n",
        "# Supply is schedulable hours for regression purpose \n",
        "supply_week=contact.groupby(['SubSpecialty','week_contact'],as_index=False).agg(\n",
        "    {'SCHEDULABLE_HRS':'sum'})"
      ],
      "execution_count": null,
      "outputs": []
    },
    {
      "cell_type": "markdown",
      "metadata": {
        "id": "QacYLhx0W8hK"
      },
      "source": [
        "## Combine demand, supply, and wait times  in one dataframe"
      ]
    },
    {
      "cell_type": "code",
      "metadata": {
        "id": "klQCDXYqW8hL"
      },
      "source": [
        "# Combine demand and supply\n",
        "supply_week.rename(columns = {'week_contact':'Week'}, inplace = True) \n",
        "demand_week.rename(columns = {'week_appmade':'Week'}, inplace = True) \n",
        "week_d_s=pd.merge(supply_week,demand_week,how='outer',on=['SubSpecialty', 'Week'])\n",
        "week_d_s=week_d_s.fillna(0)\n",
        "# Combine demand, supply, and wait times in one dataframe\n",
        "week_all=pd.merge(wq_week,week_d_s,how='outer',on=['SubSpecialty', 'Week'])\n",
        "week_all=week_all.fillna(0)"
      ],
      "execution_count": null,
      "outputs": []
    },
    {
      "cell_type": "markdown",
      "metadata": {
        "id": "U7iyGqNjW8hL"
      },
      "source": [
        "## Regression"
      ]
    },
    {
      "cell_type": "code",
      "metadata": {
        "id": "ROJkKyTtW8hL"
      },
      "source": [
        "AIC=[]\n",
        "p_value_reg=pd.DataFrame() \n",
        "coef_reg=pd.DataFrame() \n",
        "r_squared=[]\n",
        "elasticity=pd.DataFrame() \n",
        "\n",
        "import statsmodels.api as sm\n",
        "for i in week_all['SubSpecialty'].unique():\n",
        "    df= week_all[week_all['SubSpecialty']==i]\n",
        "    y= df['wait day'].values.reshape(-1,1)[1:-2]\n",
        "    # Convert the wait days to hours\n",
        "    y=24*y\n",
        "\n",
        "## Create random walk for demand \n",
        "    y_=df['demand'].values[1:]\n",
        "    x_=df['demand'].shift(1)[1:]\n",
        "    x_ = sm.add_constant(x_)\n",
        "    mod_=sm.OLS(y_,x_).fit()\n",
        "    pred=mod_.predict(x_)\n",
        "    \n",
        "## X    \n",
        "    x=pd.DataFrame(df['SCHEDULABLE_HRS'][1:-2])\n",
        "#     x['lag wait time']= df['wait day'].shift(1)[1:-2]\n",
        "    x['supply foward 1']= df['SCHEDULABLE_HRS'].shift(-1)[1:-2]\n",
        "    x['pred demand']=pred[:-2]\n",
        "    x['supply forward 2']= df['SCHEDULABLE_HRS'].shift(-2)[1:-2]\n",
        "    x['intercept']=1\n",
        "    name=x.columns\n",
        "    \n",
        "    x=x.values.reshape(-5,5)\n",
        "    mod = sm.OLS(y,x)\n",
        "    fii = mod.fit()\n",
        "    p_values = fii.summary2().tables[1]['P>|t|'].values.round(5)\n",
        "    R_Squared=fii.summary2().tables[0].iloc[6,1]\n",
        "    Coeff= fii.summary2().tables[1]['Coef.'].values.round(3)\n",
        "    els=Coeff*x.mean(axis=0)/y.mean()\n",
        "    aic=fii.summary2().tables[0].iloc[1,3]\n",
        "    p_value_reg[i]= p_values\n",
        "    coef_reg[i]= Coeff\n",
        "    elasticity[i]=els\n",
        "    r_squared.append(R_Squared)\n",
        "    AIC.append(aic)\n",
        "    \n",
        "p_value_reg.index = name\n",
        "coef_reg.index= name\n",
        "elasticity.index= name\n",
        "r_squared=pd.DataFrame(r_squared) \n",
        "r_squared.index=coef_reg.columns.values"
      ],
      "execution_count": null,
      "outputs": []
    },
    {
      "cell_type": "code",
      "metadata": {
        "id": "KoLwelJLW8hL"
      },
      "source": [
        "p_value_reg"
      ],
      "execution_count": null,
      "outputs": []
    },
    {
      "cell_type": "code",
      "metadata": {
        "id": "64blRxpQW8hL"
      },
      "source": [
        "coef_reg"
      ],
      "execution_count": null,
      "outputs": []
    },
    {
      "cell_type": "code",
      "metadata": {
        "id": "y3vEyUq8W8hM"
      },
      "source": [
        "elasticity"
      ],
      "execution_count": null,
      "outputs": []
    },
    {
      "cell_type": "code",
      "metadata": {
        "id": "gAsv-vmbW8hM"
      },
      "source": [
        "r_squared"
      ],
      "execution_count": null,
      "outputs": []
    },
    {
      "cell_type": "code",
      "metadata": {
        "id": "e261hZSJW8hM"
      },
      "source": [
        "AIC"
      ],
      "execution_count": null,
      "outputs": []
    },
    {
      "cell_type": "markdown",
      "metadata": {
        "id": "YS1VBfhLW8hM"
      },
      "source": [
        "## Movement Disorders (schedulable hours significant)"
      ]
    },
    {
      "cell_type": "code",
      "metadata": {
        "id": "xEvNP9W9W8hM"
      },
      "source": [
        "df= week_all[week_all['SubSpecialty']=='Neurology: Movement Disorders']\n",
        "y= df['wait day'].values.reshape(-1,1)[1:-2]\n",
        "y=24*y\n",
        "\n",
        "y_=df['demand'].values[1:]\n",
        "x_=df['demand'].shift(1)[1:]\n",
        "x_ = sm.add_constant(x_)\n",
        "mod_=sm.OLS(y_,x_).fit()\n",
        "pred=mod_.predict(x_)\n",
        "    \n",
        "    \n",
        "x=pd.DataFrame(df['SCHEDULABLE_HRS'][1:-2])\n",
        "x['supply foward 1']= df['SCHEDULABLE_HRS'].shift(-1)[1:-2]\n",
        "x['pred demand']=pred[:-2]\n",
        "x['supply forward 2']= df['SCHEDULABLE_HRS'].shift(-2)[1:-2]\n",
        "x['intercept']=1\n",
        "\n",
        "x=x.values.reshape(-5,5)\n",
        "mod = sm.OLS(y,x)\n",
        "fii = mod.fit()\n",
        "\n",
        "## Evaluate \n",
        "import pandas as pd\n",
        "slope, intercept = np.polyfit(fii.predict(x)/24,y/24, 1)\n",
        "# Create a list of values in the best fit line\n",
        "abline_values = [slope * i + intercept for i in fii.predict(x)/24]\n",
        "\n",
        "plt.figure(figsize=(8, 8))\n",
        "plt.plot(fii.predict(x)/24,y/24,'o',c='#ff7f0e')\n",
        "plt.plot(fii.predict(x)/24, abline_values, 'b')\n",
        "plt.title('Prediction of Wait Times(Days)')  \n",
        "plt.xlabel('Predicted Wait Times (Days)')  \n",
        "plt.ylabel('Actual Wait Times (Days)')  \n",
        "plt.show()"
      ],
      "execution_count": null,
      "outputs": []
    },
    {
      "cell_type": "code",
      "metadata": {
        "id": "iGGN41E9W8hN"
      },
      "source": [
        "## Actual weekly average wait time= 51 days\n",
        "## Target wait time =31 days\n",
        "reduced=[]\n",
        "for i in range(10,200,5):\n",
        "    i=i/100\n",
        "    actual=week_all[week_all['SubSpecialty']=='Neurology: Movement Disorders']['wait day'].mean()*24\n",
        "    reduced_wt= actual*(1+elasticity['Neurology: Movement Disorders'][0]*i)\n",
        "    reduced.append(reduced_wt/24)"
      ],
      "execution_count": null,
      "outputs": []
    },
    {
      "cell_type": "code",
      "metadata": {
        "id": "os8uwrY6W8hN"
      },
      "source": [
        "import pandas as pd\n",
        "plt.figure(figsize=(8, 8))\n",
        "plt.plot([element *(19/100) for element in range(110,300,5)],reduced,'o')\n",
        "plt.title('Decrease of Wait Times with Increase in Schedulable Hours')  \n",
        "plt.xlabel('Weekly Schedulable Hours')  \n",
        "plt.ylabel('New Patient Wait Times')  \n",
        "import matplotlib.pyplot as plt\n",
        "plt.axhline(y = 31, color = 'r', linestyle = '-')\n",
        "plt.show()"
      ],
      "execution_count": null,
      "outputs": []
    },
    {
      "cell_type": "markdown",
      "metadata": {
        "id": "07OyU-4tW8hN"
      },
      "source": [
        "## Random Walk for Demand"
      ]
    },
    {
      "cell_type": "code",
      "metadata": {
        "id": "0UFVPXi7W8hN"
      },
      "source": [
        "## Evaluate random walk for demand    \n",
        "import statsmodels.api as sm\n",
        "for i in week_all['SubSpecialty'].unique():\n",
        "    df= week_all[week_all['SubSpecialty']==i]\n",
        "    y_=df['demand'].values[1:]\n",
        "    x_=df['demand'].shift(1)[1:]\n",
        "    mod_=sm.OLS(y_,x_).fit()\n",
        "    pred=mod_.predict(x_)\n",
        "    \n",
        "    plt.plot(df['Week'][1:],y_,'o') ## actual demand\n",
        "    plt.plot(df['Week'][1:],pred,'x') ## predicted demand\n",
        "    plt.title(i)  \n",
        "    plt.xlabel('week')  \n",
        "    plt.ylabel('demand')  \n",
        "    plt.show()"
      ],
      "execution_count": null,
      "outputs": []
    }
  ]
}